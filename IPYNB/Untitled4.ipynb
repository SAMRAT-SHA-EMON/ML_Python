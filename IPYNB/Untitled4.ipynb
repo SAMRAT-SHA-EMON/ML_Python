{
 "cells": [
  {
   "cell_type": "code",
   "execution_count": 85,
   "id": "8664fac1",
   "metadata": {},
   "outputs": [
    {
     "data": {
      "text/plain": [
       "<matplotlib.collections.PathCollection at 0x20abe1aef10>"
      ]
     },
     "execution_count": 85,
     "metadata": {},
     "output_type": "execute_result"
    }
   ],
   "source": [
    "import matplotlib.pyplot as plt\n",
    "import numpy as np\n",
    "\n",
    "#Scatters\n",
    "\n",
    "x = np.random.randint(10, size=(10))\n",
    "y = np.random.randint(20, size=(10))\n",
    "x1 = np.random.randint(10, size=(10))\n",
    "y1 = np.random.randint(20, size=(10))\n",
    "x2 = np.random.randint(10, size=(10))\n",
    "y2 = np.random.randint(20, size=(10))\n",
    "sizes = 10 * np.random.randint(10, size=(10))\n",
    "\n",
    "plt.scatter(x, y, c=colors, cmap='plasma_r')\n",
    "plt.scatter(x1, y1, c=colors, cmap='twilight')\n",
    "plt.scatter(x1, y1, c=colors, cmap='winter')\n",
    "#For Caek lower part\n",
    "plt.barh([1,2,3,4],[6,6,6,6], left = [2,2,2,2],color = 'pink')\n",
    "#For Cake upper part\n",
    "plt.barh([5,6,7,8],[4,4,4,4],left = [3,3,3,3],color = 'skyblue',alpha=.95)\n",
    "\n",
    "#For Lamp\n",
    "\n",
    "plt.bar([3.5,4.5,5.5,6.5], [5,5,5,5],bottom = [8.5,8.5,8.5,8.5],width = 0.4,color = 'green',alpha=.5)\n",
    "\n",
    "#For white line over lamp\n",
    "\n",
    "plt.plot([3.3,3.7],[8.5,11],color='white')\n",
    "plt.plot([3.3,3.7],[11,13.5],color='white')\n",
    "plt.plot([4.3,4.7],[8.5,11],color = 'white')\n",
    "plt.plot([4.3,4.7],[11,13.5],color = 'white')\n",
    "plt.plot([5.3,5.7],[8.5,11],color='white')\n",
    "plt.plot([5.3,5.7],[11,13.5],color='white')\n",
    "plt.plot([6.3,6.7],[8.5,11],color = 'white')\n",
    "plt.plot([6.3,6.7],[11,13.5],color = 'white')\n",
    "\n",
    "#For light line lamp\n",
    "\n",
    "plt.plot([3.5,3.5],[13.5,14.5],color='blue')\n",
    "plt.plot([4.5,4.5],[13.5,14.5],color='orange')\n",
    "plt.plot([5.5,5.5],[13.5,14.5],color = 'green')\n",
    "plt.plot([6.5,6.5],[13.5,14.5],color = 'red')\n",
    "\n",
    "plt.xlim(0,10)\n",
    "plt.grid()\n",
    "plt.xticks()\n",
    "plt.yticks()\n",
    "plt.ylim(0,20)\n",
    "plt.scatter(x, y)\n",
    "plt.scatter(x1, y1)\n",
    "plt.scatter(x2,y2)"
   ]
  },
  {
   "cell_type": "code",
   "execution_count": null,
   "id": "f9a47ab1",
   "metadata": {},
   "outputs": [],
   "source": []
  },
  {
   "cell_type": "code",
   "execution_count": null,
   "id": "25cf28bd",
   "metadata": {},
   "outputs": [],
   "source": []
  }
 ],
 "metadata": {
  "kernelspec": {
   "display_name": "Python 3 (ipykernel)",
   "language": "python",
   "name": "python3"
  },
  "language_info": {
   "codemirror_mode": {
    "name": "ipython",
    "version": 3
   },
   "file_extension": ".py",
   "mimetype": "text/x-python",
   "name": "python",
   "nbconvert_exporter": "python",
   "pygments_lexer": "ipython3",
   "version": "3.11.5"
  }
 },
 "nbformat": 4,
 "nbformat_minor": 5
}
