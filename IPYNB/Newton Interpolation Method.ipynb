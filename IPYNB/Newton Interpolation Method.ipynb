{
 "cells": [
  {
   "cell_type": "markdown",
   "id": "adaec0f0",
   "metadata": {},
   "source": [
    "# Newton Interpolation"
   ]
  },
  {
   "cell_type": "code",
   "execution_count": 4,
   "id": "40b008f0",
   "metadata": {},
   "outputs": [
    {
     "name": "stdout",
     "output_type": "stream",
     "text": [
      "Interpolated value at x=3: -4.466666666666667\n"
     ]
    }
   ],
   "source": [
    "import numpy as np\n",
    "\n",
    "def newton_interpolation(x_values, y_values, x):\n",
    "    n = len(x_values)\n",
    "    coefficients = np.zeros(n)\n",
    "\n",
    "    # Calculate divided differences\n",
    "    for i in range(n):\n",
    "        coefficients[i] = y_values[i]\n",
    "        for j in range(i - 1, -1, -1):\n",
    "            coefficients[j] = (coefficients[j + 1] - coefficients[j]) / (x_values[i] - x_values[j])\n",
    "\n",
    "    # Evaluate the interpolating polynomial\n",
    "    result = coefficients[0]\n",
    "    product_term = 1\n",
    "\n",
    "    for i in range(1, n):\n",
    "        product_term *= (x - x_values[i - 1])\n",
    "        result += coefficients[i] * product_term\n",
    "\n",
    "    return result\n",
    "\n",
    "# Example usage\n",
    "x_values = np.array([1, 2, 4, 7])\n",
    "y_values = np.array([2, 0, 3, 1])\n",
    "x_interpolate = 3\n",
    "result = newton_interpolation(x_values, y_values, x_interpolate)\n",
    "print(f\"Interpolated value at x={x_interpolate}: {result}\")\n"
   ]
  },
  {
   "cell_type": "code",
   "execution_count": null,
   "id": "6d382622",
   "metadata": {},
   "outputs": [],
   "source": []
  }
 ],
 "metadata": {
  "kernelspec": {
   "display_name": "Python 3 (ipykernel)",
   "language": "python",
   "name": "python3"
  },
  "language_info": {
   "codemirror_mode": {
    "name": "ipython",
    "version": 3
   },
   "file_extension": ".py",
   "mimetype": "text/x-python",
   "name": "python",
   "nbconvert_exporter": "python",
   "pygments_lexer": "ipython3",
   "version": "3.11.5"
  }
 },
 "nbformat": 4,
 "nbformat_minor": 5
}
