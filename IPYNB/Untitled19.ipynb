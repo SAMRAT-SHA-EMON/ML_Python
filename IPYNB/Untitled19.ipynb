{
 "cells": [
  {
   "cell_type": "code",
   "execution_count": 1,
   "id": "1f0a4851",
   "metadata": {},
   "outputs": [
    {
     "name": "stdout",
     "output_type": "stream",
     "text": [
      "Encrypted Message: b'gAAAAABllzLTaPP4hP7luP8-2BLylP-eHXOe3TjmF-VTtcuERSh2UGIBf67sfaffr9JaS1VRngP6tG460rhVPvPW1hv2RG0UssX-yvag5HlZtM-6RgM3KhR8nza5xmNORotyr8JlHed-'\n",
      "Decrypted Message: Hello, this is a confidential message.\n"
     ]
    }
   ],
   "source": [
    "# Import the necessary library\n",
    "from cryptography.fernet import Fernet\n",
    "\n",
    "# Function to generate a key\n",
    "def generate_key():\n",
    "    return Fernet.generate_key()\n",
    "\n",
    "# Function to encrypt a message\n",
    "def encrypt_message(message, key):\n",
    "    cipher_suite = Fernet(key)\n",
    "    encrypted_message = cipher_suite.encrypt(message.encode())\n",
    "    return encrypted_message\n",
    "\n",
    "# Function to decrypt a message\n",
    "def decrypt_message(encrypted_message, key):\n",
    "    cipher_suite = Fernet(key)\n",
    "    decrypted_message = cipher_suite.decrypt(encrypted_message).decode()\n",
    "    return decrypted_message\n",
    "\n",
    "# Generate a key (You should securely store and share this key with authorized parties)\n",
    "secret_key = generate_key()\n",
    "\n",
    "# Message to be encrypted\n",
    "original_message = \"Hello, this is a confidential message.\"\n",
    "\n",
    "# Encrypt the message\n",
    "encrypted_message = encrypt_message(original_message, secret_key)\n",
    "print(\"Encrypted Message:\", encrypted_message)\n",
    "\n",
    "# Decrypt the message\n",
    "decrypted_message = decrypt_message(encrypted_message, secret_key)\n",
    "print(\"Decrypted Message:\", decrypted_message)\n"
   ]
  }
 ],
 "metadata": {
  "kernelspec": {
   "display_name": "Python 3 (ipykernel)",
   "language": "python",
   "name": "python3"
  },
  "language_info": {
   "codemirror_mode": {
    "name": "ipython",
    "version": 3
   },
   "file_extension": ".py",
   "mimetype": "text/x-python",
   "name": "python",
   "nbconvert_exporter": "python",
   "pygments_lexer": "ipython3",
   "version": "3.11.5"
  }
 },
 "nbformat": 4,
 "nbformat_minor": 5
}
